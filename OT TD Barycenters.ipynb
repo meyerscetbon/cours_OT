{
 "cells": [
  {
   "cell_type": "markdown",
   "metadata": {},
   "source": [
    "# Wasserstein Barycenters"
   ]
  },
  {
   "cell_type": "markdown",
   "metadata": {},
   "source": [
    "The goal of today's practical session is to compute a __Wasserstein Barycenter__ between several images, seen as measures over the plane. Given $N$ images $\\mu_1, \\ldots, \\mu_N$ and weights $\\lambda_1, \\ldots, \\lambda_N > 0$, we wish to find a barycenter $\\bar\\mu$ that solves:\n",
    "$$ \\min_\\mu \\sum_{i=1}^N \\lambda_i W_2^2\\left( \\mu, \\mu_i \\right). $$"
   ]
  },
  {
   "cell_type": "code",
   "execution_count": 5,
   "metadata": {},
   "outputs": [],
   "source": [
    "import numpy as np\n",
    "import matplotlib.pyplot as plt\n",
    "import ot"
   ]
  },
  {
   "cell_type": "code",
   "execution_count": 15,
   "metadata": {},
   "outputs": [],
   "source": [
    "# Increase this parameter to downscale the images, i.e. do it if you the algorithms are too slow on your computer\n",
    "pad = 6\n",
    "\n",
    "# Load the images:\n",
    "I1 = 1 - plt.imread('images/redcross.png')[::pad, ::pad, 2]\n",
    "I2 = 1 - plt.imread('images/heart.png')[::pad, ::pad, 2]\n",
    "I3 = 1 - plt.imread('images/duck.png')[::pad, ::pad, 2]\n",
    "I4 = 1 - plt.imread('images/tooth.png')[::pad, ::pad, 2]"
   ]
  },
  {
   "cell_type": "markdown",
   "metadata": {},
   "source": [
    "We will consider the four images given below, and compute their Wasserstein barycenter for several weights."
   ]
  },
  {
   "cell_type": "code",
   "execution_count": 16,
   "metadata": {},
   "outputs": [
    {
     "data": {
      "image/png": "[encoded data removed]",
      "text/plain": [
       "<Figure size 360x360 with 4 Axes>"
      ]
     },
     "metadata": {
      "needs_background": "light"
     },
     "output_type": "display_data"
    }
   ],
   "source": [
    "plt.figure(figsize=(5,5))\n",
    "plt.set_cmap('Greys')\n",
    "\n",
    "plt.subplot(2, 2, 1)\n",
    "plt.imshow(I1)\n",
    "plt.axis('off')\n",
    "\n",
    "plt.subplot(2, 2, 2)\n",
    "plt.imshow(I2)\n",
    "plt.axis('off')\n",
    "\n",
    "plt.subplot(2, 2, 3)\n",
    "plt.imshow(I3)\n",
    "plt.axis('off')\n",
    "\n",
    "plt.subplot(2, 2, 4)\n",
    "plt.imshow(I4)\n",
    "plt.axis('off')\n",
    "\n",
    "plt.show()"
   ]
  },
  {
   "cell_type": "code",
   "execution_count": null,
   "metadata": {},
   "outputs": [],
   "source": [
    "# Normalize the images, to make them measures over the grid\n",
    "# TODO"
   ]
  },
  {
   "cell_type": "code",
   "execution_count": null,
   "metadata": {
    "scrolled": true
   },
   "outputs": [],
   "source": [
    "# Compute the cost matrix, and normalize it (remember last time)\n",
    "# TODO"
   ]
  },
  {
   "cell_type": "code",
   "execution_count": null,
   "metadata": {},
   "outputs": [],
   "source": [
    "# This computed the Euclidean projection on the probability simplex\n",
    "def euclidean_proj_simplex(v, s=1):\n",
    "    \"\"\" Compute the Euclidean projection on a positive simplex.\"\"\"\n",
    "    # Adrien Gaidon - INRIA - 2011\n",
    "    assert s > 0, \"Radius s must be strictly positive (%d <= 0)\" % s\n",
    "    n, = v.shape  # will raise ValueError if v is not 1-D\n",
    "    # check if we are already on the simplex\n",
    "    if v.sum() == s and np.alltrue(v >= 0):\n",
    "        # best projection: itself!\n",
    "        return v\n",
    "    # get the array of cumulative sums of a sorted (decreasing) copy of v\n",
    "    u = np.sort(v)[::-1]\n",
    "    cssv = np.cumsum(u)\n",
    "    # get the number of > 0 components of the optimal solution\n",
    "    rho = np.nonzero(u * np.arange(1, n+1) > (cssv - s))[0][-1]\n",
    "    # compute the Lagrange multiplier associated to the simplex constraint\n",
    "    theta = (cssv[rho] - s) / (rho + 1.0)\n",
    "    # compute the projection by thresholding v using theta\n",
    "    w = (v - theta).clip(min=0)\n",
    "    return w"
   ]
  },
  {
   "cell_type": "code",
   "execution_count": null,
   "metadata": {},
   "outputs": [],
   "source": [
    "# Implement sinkhorn algorithm\n",
    "def sinkhorn(a, b, C, reg, warm_u, nb_iters=100):\n",
    "    '''\n",
    "        Return the potential u, given probability weights a,b, a cost matrix C, a regularization strength reg.\n",
    "        Add a warm start for u.\n",
    "    '''\n",
    "    return # TODO"
   ]
  },
  {
   "cell_type": "code",
   "execution_count": null,
   "metadata": {},
   "outputs": [],
   "source": [
    "def barycenter(images, weights, reg=0.0005, lr=0.003, nb_iters=100, nb_iters_sinkhorn=50, verbose=False):\n",
    "    '''Return the (entropy-regularized) Wasserstein Barycenter of the input images.'''\n",
    "    \n",
    "    # Checking the arguments\n",
    "    tol = 1e-9\n",
    "    assert len(images) > 0\n",
    "    assert len(images) == len(weights)\n",
    "    assert reg > 0\n",
    "    assert np.abs(np.sum(weights)-1.) < tol\n",
    "    assert weights.min() >= 0\n",
    "    \n",
    "    images = np.array(images)\n",
    "    weights = np.array(weights)\n",
    "    \n",
    "    size = images[0].shape\n",
    "    n = size[0]*size[1]\n",
    "    N = len(images)\n",
    "\n",
    "    # Initialization with the Euclidean mean\n",
    "    bar = # TODO\n",
    "\n",
    "    # Iterations\n",
    "    us = np.ones((N,n)) # Remember the values of sinkhorn potentials u\n",
    "    for t in range(nb_iters):\n",
    "\n",
    "        # For each image, run Sinkhorn between actual barycenter and the image\n",
    "        # Store the last computed value of u to feed it in the next warm start\n",
    "        grad = np.zeros(n)\n",
    "        for i in range(N):\n",
    "            # TODO\n",
    "        \n",
    "        # Rescale the gradient\n",
    "        grad = (grad - grad.min())/(grad.max() - grad.min())\n",
    "        grad = grad.reshape(size)\n",
    "\n",
    "        # Take a Projected Gradient Descent step\n",
    "        bar = # TODO\n",
    "        \n",
    "        if verbose:\n",
    "            plt.imshow(bar)\n",
    "            plt.show()\n",
    "    \n",
    "    return bar"
   ]
  },
  {
   "cell_type": "markdown",
   "metadata": {},
   "source": [
    "Let us compare the Euclidean mean and the Wasserstein Barycenter:"
   ]
  },
  {
   "cell_type": "code",
   "execution_count": null,
   "metadata": {},
   "outputs": [],
   "source": [
    "images = np.array([I1, I2, I3, I4])\n",
    "weights = np.array([0.0, 0.8, 0., 0.2])\n",
    "\n",
    "mean = # TODO: Euclidean mean\n",
    "\n",
    "bar = # TODO : call function barycenter\n",
    "\n",
    "plt.figure(figsize=(8,5))\n",
    "plt.set_cmap('Greys')\n",
    "\n",
    "plt.subplot(1, 2, 1)\n",
    "plt.imshow(mean)\n",
    "plt.title('Euclidean')\n",
    "\n",
    "plt.subplot(1, 2, 2)\n",
    "plt.imshow(bar)\n",
    "plt.title('Wasserstein')\n",
    "\n",
    "plt.show()"
   ]
  },
  {
   "cell_type": "markdown",
   "metadata": {},
   "source": [
    "You should now interpolate between the four images, with bilinear interpolation of the weights. You should obtain something like this (here `nb_images=10`):\n",
    "![Results](images/result.png \"Results\")"
   ]
  },
  {
   "cell_type": "code",
   "execution_count": null,
   "metadata": {},
   "outputs": [],
   "source": [
    "nb_images = 3 # The total number of images will be the squared of this. Decrease this nulmber if you are having computational issues\n",
    "images = np.array([I1, I3, I2, I4])\n",
    "\n",
    "plt.figure(figsize=(10,10))\n",
    "for i in range(nb_images):\n",
    "    for j in range(nb_images):\n",
    "        \n",
    "        plt.subplot(nb_images, nb_images, i * nb_images + j + 1)\n",
    "        \n",
    "        # weights are constructed by bilinear interpolation\n",
    "        weights = # TODO\n",
    "\n",
    "        if i == 0 and j == 0:\n",
    "            plt.imshow(I1)\n",
    "            plt.axis('off')\n",
    "        elif i == 0 and j == (nb_images - 1):\n",
    "            plt.imshow(I2)\n",
    "            plt.axis('off')\n",
    "        elif i == (nb_images - 1) and j == 0:\n",
    "            plt.imshow(I3)\n",
    "            plt.axis('off')\n",
    "        elif i == (nb_images - 1) and j == (nb_images - 1):\n",
    "            plt.imshow(I4)\n",
    "            plt.axis('off')\n",
    "        else:\n",
    "            B = # TODO: call barycenter\n",
    "            plt.imshow(B)\n",
    "            plt.axis('off')\n",
    "plt.show()"
   ]
  }
 ],
 "metadata": {
  "kernelspec": {
   "display_name": "Python 3",
   "language": "python",
   "name": "python3"
  },
  "language_info": {
   "codemirror_mode": {
    "name": "ipython",
    "version": 3
   },
   "file_extension": ".py",
   "mimetype": "text/x-python",
   "name": "python",
   "nbconvert_exporter": "python",
   "pygments_lexer": "ipython3",
   "version": "3.8.2"
  }
 },
 "nbformat": 4,
 "nbformat_minor": 2
}
