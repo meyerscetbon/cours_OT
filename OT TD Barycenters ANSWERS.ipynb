{
 "cells": [
  {
   "cell_type": "markdown",
   "metadata": {},
   "source": [
    "# Wasserstein Barycenters"
   ]
  },
  {
   "cell_type": "markdown",
   "metadata": {},
   "source": [
    "The goal of today's practical session is to compute a __Wasserstein Barycenter__ between several images, seen as measures over the plane. Given $N$ images $\\mu_1, \\ldots, \\mu_N$ and weights $\\lambda_1, \\ldots, \\lambda_N > 0$ s.t $\\sum_{i}\\lambda_i=1$, we wish to find a barycenter $\\bar\\mu$ that solves:\n",
    "$$ \\min_\\mu \\sum_{i=1}^N \\lambda_i W^2_{2,\\varepsilon}\\left( \\mu, \\mu_i \\right). $$\n",
    "where\n",
    "$$ W_{2,\\varepsilon}\\left( \\mu, \\nu\\right) = \\min_{P\\in\\Pi(\\mu,\\nu)} \\langle C, P\\rangle - \\varepsilon H(P) $$"
   ]
  },
  {
   "cell_type": "code",
   "execution_count": 3,
   "metadata": {},
   "outputs": [],
   "source": [
    "import numpy as np\n",
    "import matplotlib.pyplot as plt\n",
    "import ot"
   ]
  },
  {
   "cell_type": "code",
   "execution_count": 11,
   "metadata": {},
   "outputs": [],
   "source": [
    "# Increase this parameter to downscale the images, i.e. do it if you the algorithms are too slow on your computer\n",
    "pad = 6\n",
    "\n",
    "# Load the images:\n",
    "I1 = 1 - plt.imread('images/redcross.png')[::pad, ::pad, 2]\n",
    "I2 = 1 - plt.imread('images/heart.png')[::pad, ::pad, 2]\n",
    "I3 = 1 - plt.imread('images/duck.png')[::pad, ::pad, 2]\n",
    "I4 = 1 - plt.imread('images/tooth.png')[::pad, ::pad, 2]"
   ]
  },
  {
   "cell_type": "markdown",
   "metadata": {},
   "source": [
    "We will consider the four images given below, and compute their Wasserstein barycenter for several weights."
   ]
  },
  {
   "cell_type": "code",
   "execution_count": 12,
   "metadata": {},
   "outputs": [
    {
     "data": {
      "image/png": "[encoded data removed]",
      "text/plain": [
       "<Figure size 360x360 with 4 Axes>"
      ]
     },
     "metadata": {
      "needs_background": "light"
     },
     "output_type": "display_data"
    }
   ],
   "source": [
    "plt.figure(figsize=(5,5))\n",
    "plt.set_cmap('Greys')\n",
    "\n",
    "plt.subplot(2, 2, 1)\n",
    "plt.imshow(I1)\n",
    "plt.axis('off')\n",
    "\n",
    "plt.subplot(2, 2, 2)\n",
    "plt.imshow(I2)\n",
    "plt.axis('off')\n",
    "\n",
    "plt.subplot(2, 2, 3)\n",
    "plt.imshow(I3)\n",
    "plt.axis('off')\n",
    "\n",
    "plt.subplot(2, 2, 4)\n",
    "plt.imshow(I4)\n",
    "plt.axis('off')\n",
    "\n",
    "plt.show()"
   ]
  },
  {
   "cell_type": "code",
   "execution_count": 14,
   "metadata": {},
   "outputs": [],
   "source": [
    "# Normalize the images, to make them measures over the grid\n",
    "I1 = I1 / I1.sum()\n",
    "I2 = I2 / I2.sum()\n",
    "I3 = I3 / I3.sum()\n",
    "I4 = I4 / I4.sum()"
   ]
  },
  {
   "cell_type": "code",
   "execution_count": 15,
   "metadata": {
    "scrolled": true
   },
   "outputs": [],
   "source": [
    "# Compute the cost matrix\n",
    "lw = I1.shape[0]\n",
    "C = np.zeros((lw,lw,lw,lw))\n",
    "for i in range(lw):\n",
    "    for j in range(lw):\n",
    "        for k in range(lw):\n",
    "            for l in range(lw):\n",
    "      x`          C[i,j,k,l] = (i-k)**2 + (j-l)**2\n",
    "C = C.reshape((lw*lw,lw*lw))\n",
    "C = C / C.max()"
   ]
  },
  {
   "cell_type": "code",
   "execution_count": 22,
   "metadata": {},
   "outputs": [],
   "source": [
    "def euclidean_proj_simplex(v, s=1):\n",
    "    \"\"\" Compute the Euclidean projection on a positive simplex.\"\"\"\n",
    "    # Adrien Gaidon - INRIA - 2011\n",
    "    assert s > 0, \"Radius s must be strictly positive (%d <= 0)\" % s\n",
    "    n, = v.shape  # will raise ValueError if v is not 1-D\n",
    "    # check if we are already on the simplex\n",
    "    if v.sum() == s and np.alltrue(v >= 0):\n",
    "        # best projection: itself!\n",
    "        return v\n",
    "    # get the array of cumulative sums of a sorted (decreasing) copy of v\n",
    "    u = np.sort(v)[::-1]\n",
    "    cssv = np.cumsum(u)\n",
    "    # get the number of > 0 components of the optimal solution\n",
    "    rho = np.nonzero(u * np.arange(1, n+1) > (cssv - s))[0][-1]\n",
    "    # compute the Lagrange multiplier associated to the simplex constraint\n",
    "    theta = (cssv[rho] - s) / (rho + 1.0)\n",
    "    # compute the projection by thresholding v using theta\n",
    "    w = (v - theta).clip(min=0)\n",
    "    return w"
   ]
  },
  {
   "cell_type": "code",
   "execution_count": 23,
   "metadata": {},
   "outputs": [],
   "source": [
    "# Implement sinkhorn algorithm\n",
    "def sinkhorn(a, b, C, reg, warm_u, nb_iters=100):\n",
    "    '''\n",
    "        Return the potential u, given probability weights a,b, a cost matrix C, a regularization strength reg.\n",
    "        Add a warm start for u.\n",
    "    '''\n",
    "    if warm_u is None:\n",
    "        u = np.ones(a.shape[0])\n",
    "    else:\n",
    "        u = warm_u\n",
    "    K = np.exp(-C/reg)\n",
    "    for t in range(nb_iters):\n",
    "        v = b / K.dot(u)\n",
    "        u = a / K.T.dot(v)\n",
    "    return u"
   ]
  },
  {
   "cell_type": "code",
   "execution_count": 27,
   "metadata": {},
   "outputs": [],
   "source": [
    "def barycenter(images, weights, reg=0.0005, lr=0.003, nb_iters=100, nb_iters_sinkhorn=50, verbose=False):\n",
    "    '''Return the (entropy-regularized) Wasserstein Barycenter of the input images.'''\n",
    "    \n",
    "    # Checking the arguments\n",
    "    tol = 1e-9\n",
    "    assert len(images) > 0\n",
    "    assert len(images) == len(weights)\n",
    "    assert reg > 0\n",
    "    assert np.abs(np.sum(weights)-1.) < tol\n",
    "    assert weights.min() >= 0\n",
    "    \n",
    "    images = np.array(images)\n",
    "    weights = np.array(weights)\n",
    "    \n",
    "    size = images[0].shape\n",
    "    n = size[0]*size[1]\n",
    "    N = len(images)\n",
    "\n",
    "    # Initialization with the Euclidean mean\n",
    "    bar = weights.dot(images.reshape(N,-1)).reshape(size)\n",
    "    bar = bar / bar.sum()\n",
    "\n",
    "    # Iterations\n",
    "    us = np.ones((N,n))\n",
    "    for t in range(nb_iters):\n",
    "\n",
    "        # For each image, run Sinkhorn between actual barycenter and the image\n",
    "        grad = np.zeros(n)\n",
    "        for i in range(N):\n",
    "            u = sinkhorn(bar.reshape(n), images[i].reshape(n), C, reg=reg, warm_u = us[i], nb_iters=nb_iters_sinkhorn)\n",
    "            u[u<tol] = tol\n",
    "            us[i] = u\n",
    "            grad = grad + weights[i]*reg*np.log(u)\n",
    "        \n",
    "        # Rescale the gradient\n",
    "        grad = (grad - grad.min())/(grad.max() - grad.min())\n",
    "        grad = grad.reshape(size)\n",
    "\n",
    "        # Take a Projected Gradient Descent step\n",
    "        bar = bar - lr*grad\n",
    "        bar = euclidean_proj_simplex(bar.reshape(n,)).reshape(size)\n",
    "        \n",
    "        if verbose:\n",
    "            plt.imshow(bar)\n",
    "            plt.show()\n",
    "    \n",
    "    return bar"
   ]
  },
  {
   "cell_type": "markdown",
   "metadata": {},
   "source": [
    "Let us compare the Euclidean mean and the Wasserstein Barycenter:"
   ]
  },
  {
   "cell_type": "code",
   "execution_count": 34,
   "metadata": {},
   "outputs": [
    {
     "data": {
      "image/png": "[encoded data removed]",
      "text/plain": [
       "<Figure size 576x360 with 2 Axes>"
      ]
     },
     "metadata": {
      "needs_background": "light"
     },
     "output_type": "display_data"
    }
   ],
   "source": [
    "images = np.array([I1, I2, I3, I4])\n",
    "weights = np.array([0.5, 0.5, 0, 0])\n",
    "\n",
    "size = images[0].shape\n",
    "N = len(images)\n",
    "mean = weights.dot(images.reshape(N,-1)).reshape(size)\n",
    "\n",
    "bar = barycenter(images, weights, reg=0.0005, lr=0.003, nb_iters=100, nb_iters_sinkhorn=50)\n",
    "\n",
    "plt.figure(figsize=(8,5))\n",
    "plt.set_cmap('Greys')\n",
    "\n",
    "plt.subplot(1, 2, 1)\n",
    "plt.imshow(mean)\n",
    "plt.title('Euclidean')\n",
    "\n",
    "plt.subplot(1, 2, 2)\n",
    "plt.imshow(bar)\n",
    "plt.title('Wasserstein')\n",
    "\n",
    "plt.show()"
   ]
  },
  {
   "cell_type": "markdown",
   "metadata": {},
   "source": [
    "You should now interpolate between the four images, with bilinear interpolation of the weights. You should obtain something like this:\n",
    "![Results](images/result.png \"Results\")"
   ]
  },
  {
   "cell_type": "code",
   "execution_count": 35,
   "metadata": {},
   "outputs": [
    {
     "name": "stdout",
     "output_type": "stream",
     "text": [
      "0\n",
      "0\n",
      "[1. 0. 0. 0.]\n",
      "0\n",
      "1\n",
      "[0.66666667 0.33333333 0.         0.        ]\n",
      "0\n",
      "2\n",
      "[0.33333333 0.66666667 0.         0.        ]\n",
      "0\n",
      "3\n",
      "[0. 1. 0. 0.]\n",
      "1\n",
      "0\n",
      "[0.66666667 0.         0.33333333 0.        ]\n",
      "1\n",
      "1\n",
      "[0.44444444 0.22222222 0.22222222 0.11111111]\n",
      "1\n",
      "2\n",
      "[0.22222222 0.44444444 0.11111111 0.22222222]\n",
      "1\n",
      "3\n",
      "[0.         0.66666667 0.         0.33333333]\n",
      "2\n",
      "0\n",
      "[0.33333333 0.         0.66666667 0.        ]\n",
      "2\n",
      "1\n",
      "[0.22222222 0.11111111 0.44444444 0.22222222]\n",
      "2\n",
      "2\n",
      "[0.11111111 0.22222222 0.22222222 0.44444444]\n",
      "2\n",
      "3\n",
      "[0.         0.33333333 0.         0.66666667]\n",
      "3\n",
      "0\n",
      "[0. 0. 1. 0.]\n",
      "3\n",
      "1\n",
      "[0.         0.         0.66666667 0.33333333]\n",
      "3\n",
      "2\n",
      "[0.         0.         0.33333333 0.66666667]\n",
      "3\n",
      "3\n",
      "[0. 0. 0. 1.]\n"
     ]
    },
    {
     "data": {
      "image/png": "[encoded data removed]",
      "text/plain": [
       "<Figure size 720x720 with 16 Axes>"
      ]
     },
     "metadata": {
      "needs_background": "light"
     },
     "output_type": "display_data"
    }
   ],
   "source": [
    "nb_images = 4 # The total number of images will be the squared of this. Decrease this nulmber if you are having computational issues\n",
    "images = np.array([I1, I2, I3, I4])\n",
    "\n",
    "B = np.zeros((nb_images,nb_images,size[0],size[1]))\n",
    "\n",
    "plt.figure(figsize=(10,10))\n",
    "for i in range(nb_images):\n",
    "    for j in range(nb_images):\n",
    "        plt.subplot(nb_images, nb_images, i * nb_images + j + 1)\n",
    "        tx = float(i) / (nb_images - 1)\n",
    "        ty = float(j) / (nb_images - 1)\n",
    "\n",
    "        # weights are constructed by bilinear interpolation\n",
    "        tmp1 = (1 - tx) * np.array([1,0,0,0]) + tx * np.array([0,0,1,0])\n",
    "        tmp2 = (1 - tx) * np.array([0,1,0,0]) + tx * np.array([0,0,0,1])\n",
    "        weights = (1 - ty) * tmp1 + ty * tmp2\n",
    "\n",
    "\n",
    "        if i == 0 and j == 0:\n",
    "            plt.imshow(I1)\n",
    "            plt.axis('off')\n",
    "        elif i == 0 and j == (nb_images - 1):\n",
    "            plt.imshow(I2)\n",
    "            plt.axis('off')\n",
    "        elif i == (nb_images - 1) and j == 0:\n",
    "            plt.imshow(I3)\n",
    "            plt.axis('off')\n",
    "        elif i == (nb_images - 1) and j == (nb_images - 1):\n",
    "            plt.imshow(I4)\n",
    "            plt.axis('off')\n",
    "        else:\n",
    "            # call to barycenter computation\n",
    "            B[i,j] = barycenter(images, weights, reg=0.0005, lr=0.001, nb_iters=150, nb_iters_sinkhorn=50)\n",
    "            plt.imshow(B[i,j])\n",
    "            plt.axis('off')\n",
    "plt.show()"
   ]
  },
  {
   "cell_type": "code",
   "execution_count": null,
   "metadata": {},
   "outputs": [],
   "source": []
  },
  {
   "cell_type": "code",
   "execution_count": null,
   "metadata": {},
   "outputs": [],
   "source": []
  }
 ],
 "metadata": {
  "kernelspec": {
   "display_name": "Python 3",
   "language": "python",
   "name": "python3"
  },
  "language_info": {
   "codemirror_mode": {
    "name": "ipython",
    "version": 3
   },
   "file_extension": ".py",
   "mimetype": "text/x-python",
   "name": "python",
   "nbconvert_exporter": "python",
   "pygments_lexer": "ipython3",
   "version": "3.8.2"
  }
 },
 "nbformat": 4,
 "nbformat_minor": 2
}
